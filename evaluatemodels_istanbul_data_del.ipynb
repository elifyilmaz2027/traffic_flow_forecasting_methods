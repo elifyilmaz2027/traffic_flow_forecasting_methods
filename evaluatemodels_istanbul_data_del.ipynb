{
 "cells": [
  {
   "cell_type": "code",
   "execution_count": 10,
   "metadata": {},
   "outputs": [],
   "source": [
    "import numpy as np\n",
    "import pandas as pd\n",
    "\n",
    "#Defining MAPE function\n",
    "def MAPE(actual_values,predicted_values):\n",
    "    predicted_values = np.array(predicted_values).reshape((len(predicted_values), 1))\n",
    "    actual_values = np.array(actual_values).reshape((len(actual_values), 1))\n",
    "    mape = np.mean(np.abs((actual_values - predicted_values)/actual_values))*100\n",
    "    return mape\n",
    "\n",
    "#Defining MAPE_100 function\n",
    "def MAPE_100(actual_values,predicted_values):\n",
    "    predicted_values = np.array(predicted_values).reshape((len(predicted_values), 1))\n",
    "    actual_values = np.array(actual_values).reshape((len(actual_values), 1))\n",
    "    x = np.concatenate((actual_values,predicted_values), axis=1)\n",
    "    x_100 = x[x[:,0]>100]\n",
    "    mape = np.mean(np.abs((x_100[:,0] - x_100[:,1]) / x_100[:,0]))*100\n",
    "    return mape\n",
    "\n",
    "#Defining MAPE_250 function\n",
    "def MAPE_250(actual_values,predicted_values):\n",
    "    predicted_values = np.array(predicted_values).reshape((len(predicted_values), 1))\n",
    "    actual_values = np.array(actual_values).reshape((len(actual_values), 1))\n",
    "    x = np.concatenate((actual_values,predicted_values), axis=1)\n",
    "    x_250 = x[x[:,0]>250]\n",
    "    mape = np.mean(np.abs((x_250[:,0] - x_250[:,1]) / x_250[:,0]))*100\n",
    "    return mape\n",
    "\n",
    "#Defining MAE function\n",
    "def MAE(actual_values,predicted_values):\n",
    "    predicted_values = np.array(predicted_values).reshape((len(predicted_values), 1))\n",
    "    actual_values = np.array(actual_values).reshape((len(actual_values), 1))\n",
    "    mae = np.mean(np.abs(actual_values - predicted_values))\n",
    "    return mae"
   ]
  },
  {
   "cell_type": "code",
   "execution_count": 11,
   "metadata": {},
   "outputs": [],
   "source": [
    "testdata_istanbul_data_del = np.array(pd.read_csv('data/istanbul/istanbul_data_del.csv')[['NUMBER_OF_VEHICLES']][-3500:])\n",
    "ar_istanbul_data_del = np.array(pd.read_csv(\"point_forecasts/ar_istanbul_data_del_test.csv\")[\"0\"])\n",
    "arma_istanbul_data_del = np.array(pd.read_csv(\"point_forecasts/arma_istanbul_data_del_test.csv\")[\"0\"])\n",
    "arima_istanbul_data_del = np.array(pd.read_csv(\"point_forecasts/arima_istanbul_data_del_test.csv\")[\"0\"])\n",
    "sarima_istanbul_data_del = np.array(pd.read_csv(\"point_forecasts/sarima_istanbul_data_del_test.csv\")[\"0\"])\n",
    "slstm_istanbul_data_del = np.array(pd.read_csv(\"point_forecasts/slstm_istanbul_data_del_test.csv\")[\"0\"])\n",
    "ssvr_istanbul_data_del = np.array(pd.read_csv(\"point_forecasts/ssvr_istanbul_data_del_test.csv\")[\"0\"])\n",
    "sxgboost_istanbul_data_del = np.array(pd.read_csv(\"point_forecasts/sxgboost_istanbul_data_del_test.csv\")[\"0\"])\n",
    "slstmarima_istanbul_data_del = np.array(pd.read_csv(\"point_forecasts/slstmarima_istanbul_data_del_test.csv\")[\"0\"])\n",
    "ssvrarima_istanbul_data_del = np.array(pd.read_csv(\"point_forecasts/ssvrarima_istanbul_data_del_test.csv\")[\"0\"])\n",
    "sxgboostarima_istanbul_data_del = np.array(pd.read_csv(\"point_forecasts/sxgboostarima_istanbul_data_del_test.csv\")[\"0\"])"
   ]
  },
  {
   "cell_type": "code",
   "execution_count": 12,
   "metadata": {},
   "outputs": [
    {
     "name": "stdout",
     "output_type": "stream",
     "text": [
      "28.86974512582298\n",
      "29.060338232637356\n",
      "31.04630704707781\n",
      "27.644744318481546\n",
      "26.083904765431708\n",
      "22.78030832823932\n",
      "24.796676785320347\n",
      "26.030395358255294\n",
      "22.728086954168397\n",
      "24.838684592834568\n"
     ]
    }
   ],
   "source": [
    "mape_ar_istanbul_data_del = MAPE(testdata_istanbul_data_del, ar_istanbul_data_del)\n",
    "mape_arma_istanbul_data_del = MAPE(testdata_istanbul_data_del, arma_istanbul_data_del)\n",
    "mape_arima_istanbul_data_del = MAPE(testdata_istanbul_data_del, arima_istanbul_data_del)\n",
    "mape_sarima_istanbul_data_del = MAPE(testdata_istanbul_data_del, sarima_istanbul_data_del)\n",
    "mape_slstm_istanbul_data_del = MAPE(testdata_istanbul_data_del, slstm_istanbul_data_del)\n",
    "mape_ssvr_istanbul_data_del = MAPE(testdata_istanbul_data_del, ssvr_istanbul_data_del)\n",
    "mape_sxgboost_istanbul_data_del = MAPE(testdata_istanbul_data_del, sxgboost_istanbul_data_del)\n",
    "mape_slstmarima_istanbul_data_del = MAPE(testdata_istanbul_data_del, slstmarima_istanbul_data_del)\n",
    "mape_ssvrarima_istanbul_data_del = MAPE(testdata_istanbul_data_del, ssvrarima_istanbul_data_del)\n",
    "mape_sxgboostarima_istanbul_data_del = MAPE(testdata_istanbul_data_del, sxgboostarima_istanbul_data_del)\n",
    "\n",
    "print(mape_ar_istanbul_data_del)\n",
    "print(mape_arma_istanbul_data_del)\n",
    "print(mape_arima_istanbul_data_del)\n",
    "print(mape_sarima_istanbul_data_del)\n",
    "print(mape_slstm_istanbul_data_del)\n",
    "print(mape_ssvr_istanbul_data_del)\n",
    "print(mape_sxgboost_istanbul_data_del)\n",
    "print(mape_slstmarima_istanbul_data_del)\n",
    "print(mape_ssvrarima_istanbul_data_del)\n",
    "print(mape_sxgboostarima_istanbul_data_del)"
   ]
  },
  {
   "cell_type": "code",
   "execution_count": 13,
   "metadata": {},
   "outputs": [
    {
     "name": "stdout",
     "output_type": "stream",
     "text": [
      "23.712783205267975\n",
      "24.1882174224178\n",
      "22.971047404769376\n",
      "20.600738845263685\n",
      "16.022873063955497\n",
      "16.454937256236214\n",
      "16.7834587509336\n",
      "16.0409316683468\n",
      "16.416078548446443\n",
      "16.832564889685074\n"
     ]
    }
   ],
   "source": [
    "mape_100_ar_istanbul_data_del = MAPE_100(testdata_istanbul_data_del, ar_istanbul_data_del)\n",
    "mape_100_arma_istanbul_data_del = MAPE_100(testdata_istanbul_data_del, arma_istanbul_data_del)\n",
    "mape_100_arima_istanbul_data_del = MAPE_100(testdata_istanbul_data_del, arima_istanbul_data_del)\n",
    "mape_100_sarima_istanbul_data_del = MAPE_100(testdata_istanbul_data_del, sarima_istanbul_data_del)\n",
    "mape_100_slstm_istanbul_data_del = MAPE_100(testdata_istanbul_data_del, slstm_istanbul_data_del)\n",
    "mape_100_ssvr_istanbul_data_del = MAPE_100(testdata_istanbul_data_del, ssvr_istanbul_data_del)\n",
    "mape_100_sxgboost_istanbul_data_del = MAPE_100(testdata_istanbul_data_del, sxgboost_istanbul_data_del)\n",
    "mape_100_slstmarima_istanbul_data_del = MAPE_100(testdata_istanbul_data_del, slstmarima_istanbul_data_del)\n",
    "mape_100_ssvrarima_istanbul_data_del = MAPE_100(testdata_istanbul_data_del, ssvrarima_istanbul_data_del)\n",
    "mape_100_sxgboostarima_istanbul_data_del = MAPE_100(testdata_istanbul_data_del, sxgboostarima_istanbul_data_del)\n",
    "\n",
    "print(mape_100_ar_istanbul_data_del)\n",
    "print(mape_100_arma_istanbul_data_del)\n",
    "print(mape_100_arima_istanbul_data_del)\n",
    "print(mape_100_sarima_istanbul_data_del)\n",
    "print(mape_100_slstm_istanbul_data_del)\n",
    "print(mape_100_ssvr_istanbul_data_del)\n",
    "print(mape_100_sxgboost_istanbul_data_del)\n",
    "print(mape_100_slstmarima_istanbul_data_del)\n",
    "print(mape_100_ssvrarima_istanbul_data_del)\n",
    "print(mape_100_sxgboostarima_istanbul_data_del)"
   ]
  },
  {
   "cell_type": "code",
   "execution_count": 14,
   "metadata": {},
   "outputs": [
    {
     "name": "stdout",
     "output_type": "stream",
     "text": [
      "21.841070095474745\n",
      "22.600807335632386\n",
      "17.584517478461393\n",
      "16.529284045080818\n",
      "11.65226367899847\n",
      "11.99353751711907\n",
      "12.014449828425033\n",
      "11.615596940182671\n",
      "12.060929432100648\n",
      "12.000875495862601\n"
     ]
    }
   ],
   "source": [
    "mape_250_ar_istanbul_data_del = MAPE_250(testdata_istanbul_data_del, ar_istanbul_data_del)\n",
    "mape_250_arma_istanbul_data_del = MAPE_250(testdata_istanbul_data_del, arma_istanbul_data_del)\n",
    "mape_250_arima_istanbul_data_del = MAPE_250(testdata_istanbul_data_del, arima_istanbul_data_del)\n",
    "mape_250_sarima_istanbul_data_del = MAPE_250(testdata_istanbul_data_del, sarima_istanbul_data_del)\n",
    "mape_250_slstm_istanbul_data_del = MAPE_250(testdata_istanbul_data_del, slstm_istanbul_data_del)\n",
    "mape_250_ssvr_istanbul_data_del = MAPE_250(testdata_istanbul_data_del, ssvr_istanbul_data_del)\n",
    "mape_250_sxgboost_istanbul_data_del = MAPE_250(testdata_istanbul_data_del, sxgboost_istanbul_data_del)\n",
    "mape_250_slstmarima_istanbul_data_del = MAPE_250(testdata_istanbul_data_del, slstmarima_istanbul_data_del)\n",
    "mape_250_ssvrarima_istanbul_data_del = MAPE_250(testdata_istanbul_data_del, ssvrarima_istanbul_data_del)\n",
    "mape_250_sxgboostarima_istanbul_data_del = MAPE_250(testdata_istanbul_data_del, sxgboostarima_istanbul_data_del)\n",
    "\n",
    "print(mape_250_ar_istanbul_data_del)\n",
    "print(mape_250_arma_istanbul_data_del)\n",
    "print(mape_250_arima_istanbul_data_del)\n",
    "print(mape_250_sarima_istanbul_data_del)\n",
    "print(mape_250_slstm_istanbul_data_del)\n",
    "print(mape_250_ssvr_istanbul_data_del)\n",
    "print(mape_250_sxgboost_istanbul_data_del)\n",
    "print(mape_250_slstmarima_istanbul_data_del)\n",
    "print(mape_250_ssvrarima_istanbul_data_del)\n",
    "print(mape_250_sxgboostarima_istanbul_data_del)"
   ]
  },
  {
   "cell_type": "code",
   "execution_count": 15,
   "metadata": {},
   "outputs": [
    {
     "name": "stdout",
     "output_type": "stream",
     "text": [
      "45.41822357559246\n",
      "46.25644379087454\n",
      "42.692464063978946\n",
      "38.92137252502022\n",
      "31.360570671221716\n",
      "30.76783905214454\n",
      "31.62889098894286\n",
      "31.355986601823076\n",
      "30.723100894109738\n",
      "31.694861789309655\n"
     ]
    }
   ],
   "source": [
    "mae_ar_istanbul_data_del = MAE(testdata_istanbul_data_del, ar_istanbul_data_del)\n",
    "mae_arma_istanbul_data_del = MAE(testdata_istanbul_data_del, arma_istanbul_data_del)\n",
    "mae_arima_istanbul_data_del = MAE(testdata_istanbul_data_del, arima_istanbul_data_del)\n",
    "mae_sarima_istanbul_data_del = MAE(testdata_istanbul_data_del, sarima_istanbul_data_del)\n",
    "mae_slstm_istanbul_data_del = MAE(testdata_istanbul_data_del, slstm_istanbul_data_del)\n",
    "mae_ssvr_istanbul_data_del = MAE(testdata_istanbul_data_del, ssvr_istanbul_data_del)\n",
    "mae_sxgboost_istanbul_data_del = MAE(testdata_istanbul_data_del, sxgboost_istanbul_data_del)\n",
    "mae_slstmarima_istanbul_data_del = MAE(testdata_istanbul_data_del, slstmarima_istanbul_data_del)\n",
    "mae_ssvrarima_istanbul_data_del = MAE(testdata_istanbul_data_del, ssvrarima_istanbul_data_del)\n",
    "mae_sxgboostarima_istanbul_data_del = MAE(testdata_istanbul_data_del, sxgboostarima_istanbul_data_del)\n",
    "\n",
    "print(mae_ar_istanbul_data_del)\n",
    "print(mae_arma_istanbul_data_del)\n",
    "print(mae_arima_istanbul_data_del)\n",
    "print(mae_sarima_istanbul_data_del)\n",
    "print(mae_slstm_istanbul_data_del)\n",
    "print(mae_ssvr_istanbul_data_del)\n",
    "print(mae_sxgboost_istanbul_data_del)\n",
    "print(mae_slstmarima_istanbul_data_del)\n",
    "print(mae_ssvrarima_istanbul_data_del)\n",
    "print(mae_sxgboostarima_istanbul_data_del)"
   ]
  },
  {
   "cell_type": "code",
   "execution_count": null,
   "metadata": {},
   "outputs": [],
   "source": []
  }
 ],
 "metadata": {
  "interpreter": {
   "hash": "40d3a090f54c6569ab1632332b64b2c03c39dcf918b08424e98f38b5ae0af88f"
  },
  "kernelspec": {
   "display_name": "Python 3.7.9",
   "language": "python",
   "name": "python3"
  },
  "language_info": {
   "codemirror_mode": {
    "name": "ipython",
    "version": 3
   },
   "file_extension": ".py",
   "mimetype": "text/x-python",
   "name": "python",
   "nbconvert_exporter": "python",
   "pygments_lexer": "ipython3",
   "version": "3.7.9"
  },
  "orig_nbformat": 4
 },
 "nbformat": 4,
 "nbformat_minor": 2
}
