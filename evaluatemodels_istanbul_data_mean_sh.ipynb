{
 "cells": [
  {
   "cell_type": "code",
   "execution_count": 1,
   "metadata": {},
   "outputs": [],
   "source": [
    "import numpy as np\n",
    "import pandas as pd\n",
    "\n",
    "#Defining MAPE function\n",
    "def MAPE(actual_values,predicted_values):\n",
    "    predicted_values = np.array(predicted_values).reshape((len(predicted_values), 1))\n",
    "    actual_values = np.array(actual_values).reshape((len(actual_values), 1))\n",
    "    mape = np.mean(np.abs((actual_values - predicted_values)/actual_values))*100\n",
    "    return mape\n",
    "\n",
    "#Defining MAPE_100 function\n",
    "def MAPE_100(actual_values,predicted_values):\n",
    "    predicted_values = np.array(predicted_values).reshape((len(predicted_values), 1))\n",
    "    actual_values = np.array(actual_values).reshape((len(actual_values), 1))\n",
    "    x = np.concatenate((actual_values,predicted_values), axis=1)\n",
    "    x_100 = x[x[:,0]>100]\n",
    "    mape = np.mean(np.abs((x_100[:,0] - x_100[:,1]) / x_100[:,0]))*100\n",
    "    return mape\n",
    "\n",
    "#Defining MAPE_250 function\n",
    "def MAPE_250(actual_values,predicted_values):\n",
    "    predicted_values = np.array(predicted_values).reshape((len(predicted_values), 1))\n",
    "    actual_values = np.array(actual_values).reshape((len(actual_values), 1))\n",
    "    x = np.concatenate((actual_values,predicted_values), axis=1)\n",
    "    x_250 = x[x[:,0]>250]\n",
    "    mape = np.mean(np.abs((x_250[:,0] - x_250[:,1]) / x_250[:,0]))*100\n",
    "    return mape\n",
    "\n",
    "#Defining MAE function\n",
    "def MAE(actual_values,predicted_values):\n",
    "    predicted_values = np.array(predicted_values).reshape((len(predicted_values), 1))\n",
    "    actual_values = np.array(actual_values).reshape((len(actual_values), 1))\n",
    "    mae = np.mean(np.abs(actual_values - predicted_values))\n",
    "    return mae"
   ]
  },
  {
   "cell_type": "code",
   "execution_count": 2,
   "metadata": {},
   "outputs": [],
   "source": [
    "testdata_istanbul_data_mean_sh = np.array(pd.read_csv('data/istanbul/istanbul_data_mean_sh.csv')[['NUMBER_OF_VEHICLES']][-3500:])\n",
    "ar_istanbul_data_mean_sh = np.array(pd.read_csv(\"point_forecasts/ar_istanbul_data_mean_sh_test.csv\")[\"0\"])\n",
    "arma_istanbul_data_mean_sh = np.array(pd.read_csv(\"point_forecasts/arma_istanbul_data_mean_sh_test.csv\")[\"0\"])\n",
    "arima_istanbul_data_mean_sh = np.array(pd.read_csv(\"point_forecasts/arima_istanbul_data_mean_sh_test.csv\")[\"0\"])\n",
    "sarima_istanbul_data_mean_sh = np.array(pd.read_csv(\"point_forecasts/sarima_istanbul_data_mean_sh_test.csv\")[\"0\"])\n",
    "slstm_istanbul_data_mean_sh = np.array(pd.read_csv(\"point_forecasts/slstm_istanbul_data_mean_sh_test.csv\")[\"0\"])\n",
    "ssvr_istanbul_data_mean_sh = np.array(pd.read_csv(\"point_forecasts/ssvr_istanbul_data_mean_sh_test.csv\")[\"0\"])\n",
    "sxgboost_istanbul_data_mean_sh = np.array(pd.read_csv(\"point_forecasts/sxgboost_istanbul_data_mean_sh_test.csv\")[\"0\"])\n",
    "slstmarima_istanbul_data_mean_sh = np.array(pd.read_csv(\"point_forecasts/slstmarima_istanbul_data_mean_sh_test.csv\")[\"0\"])\n",
    "ssvrarima_istanbul_data_mean_sh = np.array(pd.read_csv(\"point_forecasts/ssvrarima_istanbul_data_mean_sh_test.csv\")[\"0\"])\n",
    "sxgboostarima_istanbul_data_mean_sh = np.array(pd.read_csv(\"point_forecasts/sxgboostarima_istanbul_data_mean_sh_test.csv\")[\"0\"])"
   ]
  },
  {
   "cell_type": "code",
   "execution_count": 3,
   "metadata": {},
   "outputs": [
    {
     "name": "stdout",
     "output_type": "stream",
     "text": [
      "31.639771004700513\n",
      "28.572032803815915\n",
      "29.968686582552234\n",
      "21.774666788498752\n",
      "17.65213224379523\n",
      "17.155343621539714\n",
      "18.51083359724517\n",
      "17.670485960850637\n",
      "17.16216537051296\n",
      "18.51645262368806\n"
     ]
    }
   ],
   "source": [
    "mape_ar_istanbul_data_mean_sh = MAPE(testdata_istanbul_data_mean_sh, ar_istanbul_data_mean_sh)\n",
    "mape_arma_istanbul_data_mean_sh = MAPE(testdata_istanbul_data_mean_sh, arma_istanbul_data_mean_sh)\n",
    "mape_arima_istanbul_data_mean_sh = MAPE(testdata_istanbul_data_mean_sh, arima_istanbul_data_mean_sh)\n",
    "mape_sarima_istanbul_data_mean_sh = MAPE(testdata_istanbul_data_mean_sh, sarima_istanbul_data_mean_sh)\n",
    "mape_slstm_istanbul_data_mean_sh = MAPE(testdata_istanbul_data_mean_sh, slstm_istanbul_data_mean_sh)\n",
    "mape_ssvr_istanbul_data_mean_sh = MAPE(testdata_istanbul_data_mean_sh, ssvr_istanbul_data_mean_sh)\n",
    "mape_sxgboost_istanbul_data_mean_sh = MAPE(testdata_istanbul_data_mean_sh, sxgboost_istanbul_data_mean_sh)\n",
    "mape_slstmarima_istanbul_data_mean_sh = MAPE(testdata_istanbul_data_mean_sh, slstmarima_istanbul_data_mean_sh)\n",
    "mape_ssvrarima_istanbul_data_mean_sh = MAPE(testdata_istanbul_data_mean_sh, ssvrarima_istanbul_data_mean_sh)\n",
    "mape_sxgboostarima_istanbul_data_mean_sh = MAPE(testdata_istanbul_data_mean_sh, sxgboostarima_istanbul_data_mean_sh)\n",
    "\n",
    "print(mape_ar_istanbul_data_mean_sh)\n",
    "print(mape_arma_istanbul_data_mean_sh)\n",
    "print(mape_arima_istanbul_data_mean_sh)\n",
    "print(mape_sarima_istanbul_data_mean_sh)\n",
    "print(mape_slstm_istanbul_data_mean_sh)\n",
    "print(mape_ssvr_istanbul_data_mean_sh)\n",
    "print(mape_sxgboost_istanbul_data_mean_sh)\n",
    "print(mape_slstmarima_istanbul_data_mean_sh)\n",
    "print(mape_ssvrarima_istanbul_data_mean_sh)\n",
    "print(mape_sxgboostarima_istanbul_data_mean_sh)"
   ]
  },
  {
   "cell_type": "code",
   "execution_count": 4,
   "metadata": {},
   "outputs": [
    {
     "name": "stdout",
     "output_type": "stream",
     "text": [
      "26.65815858456\n",
      "23.500346531481295\n",
      "21.68985263196856\n",
      "15.153660727371493\n",
      "12.373201752239357\n",
      "12.024076054376485\n",
      "12.980894248875982\n",
      "12.391141607796829\n",
      "12.036228092861402\n",
      "12.99737582199011\n"
     ]
    }
   ],
   "source": [
    "mape_100_ar_istanbul_data_mean_sh = MAPE_100(testdata_istanbul_data_mean_sh, ar_istanbul_data_mean_sh)\n",
    "mape_100_arma_istanbul_data_mean_sh = MAPE_100(testdata_istanbul_data_mean_sh, arma_istanbul_data_mean_sh)\n",
    "mape_100_arima_istanbul_data_mean_sh = MAPE_100(testdata_istanbul_data_mean_sh, arima_istanbul_data_mean_sh)\n",
    "mape_100_sarima_istanbul_data_mean_sh = MAPE_100(testdata_istanbul_data_mean_sh, sarima_istanbul_data_mean_sh)\n",
    "mape_100_slstm_istanbul_data_mean_sh = MAPE_100(testdata_istanbul_data_mean_sh, slstm_istanbul_data_mean_sh)\n",
    "mape_100_ssvr_istanbul_data_mean_sh = MAPE_100(testdata_istanbul_data_mean_sh, ssvr_istanbul_data_mean_sh)\n",
    "mape_100_sxgboost_istanbul_data_mean_sh = MAPE_100(testdata_istanbul_data_mean_sh, sxgboost_istanbul_data_mean_sh)\n",
    "mape_100_slstmarima_istanbul_data_mean_sh = MAPE_100(testdata_istanbul_data_mean_sh, slstmarima_istanbul_data_mean_sh)\n",
    "mape_100_ssvrarima_istanbul_data_mean_sh = MAPE_100(testdata_istanbul_data_mean_sh, ssvrarima_istanbul_data_mean_sh)\n",
    "mape_100_sxgboostarima_istanbul_data_mean_sh = MAPE_100(testdata_istanbul_data_mean_sh, sxgboostarima_istanbul_data_mean_sh)\n",
    "\n",
    "print(mape_100_ar_istanbul_data_mean_sh)\n",
    "print(mape_100_arma_istanbul_data_mean_sh)\n",
    "print(mape_100_arima_istanbul_data_mean_sh)\n",
    "print(mape_100_sarima_istanbul_data_mean_sh)\n",
    "print(mape_100_slstm_istanbul_data_mean_sh)\n",
    "print(mape_100_ssvr_istanbul_data_mean_sh)\n",
    "print(mape_100_sxgboost_istanbul_data_mean_sh)\n",
    "print(mape_100_slstmarima_istanbul_data_mean_sh)\n",
    "print(mape_100_ssvrarima_istanbul_data_mean_sh)\n",
    "print(mape_100_sxgboostarima_istanbul_data_mean_sh)"
   ]
  },
  {
   "cell_type": "code",
   "execution_count": 5,
   "metadata": {},
   "outputs": [
    {
     "name": "stdout",
     "output_type": "stream",
     "text": [
      "25.311646310380866\n",
      "22.605266190396456\n",
      "16.743081708139183\n",
      "12.363706488522883\n",
      "10.107239766679745\n",
      "9.710289104268918\n",
      "10.599377377177987\n",
      "10.107467632206035\n",
      "9.705971697418457\n",
      "10.613657190766002\n"
     ]
    }
   ],
   "source": [
    "mape_250_ar_istanbul_data_mean_sh = MAPE_250(testdata_istanbul_data_mean_sh, ar_istanbul_data_mean_sh)\n",
    "mape_250_arma_istanbul_data_mean_sh = MAPE_250(testdata_istanbul_data_mean_sh, arma_istanbul_data_mean_sh)\n",
    "mape_250_arima_istanbul_data_mean_sh = MAPE_250(testdata_istanbul_data_mean_sh, arima_istanbul_data_mean_sh)\n",
    "mape_250_sarima_istanbul_data_mean_sh = MAPE_250(testdata_istanbul_data_mean_sh, sarima_istanbul_data_mean_sh)\n",
    "mape_250_slstm_istanbul_data_mean_sh = MAPE_250(testdata_istanbul_data_mean_sh, slstm_istanbul_data_mean_sh)\n",
    "mape_250_ssvr_istanbul_data_mean_sh = MAPE_250(testdata_istanbul_data_mean_sh, ssvr_istanbul_data_mean_sh)\n",
    "mape_250_sxgboost_istanbul_data_mean_sh = MAPE_250(testdata_istanbul_data_mean_sh, sxgboost_istanbul_data_mean_sh)\n",
    "mape_250_slstmarima_istanbul_data_mean_sh = MAPE_250(testdata_istanbul_data_mean_sh, slstmarima_istanbul_data_mean_sh)\n",
    "mape_250_ssvrarima_istanbul_data_mean_sh = MAPE_250(testdata_istanbul_data_mean_sh, ssvrarima_istanbul_data_mean_sh)\n",
    "mape_250_sxgboostarima_istanbul_data_mean_sh = MAPE_250(testdata_istanbul_data_mean_sh, sxgboostarima_istanbul_data_mean_sh)\n",
    "\n",
    "print(mape_250_ar_istanbul_data_mean_sh)\n",
    "print(mape_250_arma_istanbul_data_mean_sh)\n",
    "print(mape_250_arima_istanbul_data_mean_sh)\n",
    "print(mape_250_sarima_istanbul_data_mean_sh)\n",
    "print(mape_250_slstm_istanbul_data_mean_sh)\n",
    "print(mape_250_ssvr_istanbul_data_mean_sh)\n",
    "print(mape_250_sxgboost_istanbul_data_mean_sh)\n",
    "print(mape_250_slstmarima_istanbul_data_mean_sh)\n",
    "print(mape_250_ssvrarima_istanbul_data_mean_sh)\n",
    "print(mape_250_sxgboostarima_istanbul_data_mean_sh)"
   ]
  },
  {
   "cell_type": "code",
   "execution_count": 6,
   "metadata": {},
   "outputs": [
    {
     "name": "stdout",
     "output_type": "stream",
     "text": [
      "50.59338322306562\n",
      "45.1325882067358\n",
      "40.46508991283195\n",
      "29.04744789522173\n",
      "23.601114571248978\n",
      "22.836079943066032\n",
      "24.71005580608951\n",
      "23.643619065937603\n",
      "22.850270792773518\n",
      "24.732252707828827\n"
     ]
    }
   ],
   "source": [
    "mae_ar_istanbul_data_mean_sh = MAE(testdata_istanbul_data_mean_sh, ar_istanbul_data_mean_sh)\n",
    "mae_arma_istanbul_data_mean_sh = MAE(testdata_istanbul_data_mean_sh, arma_istanbul_data_mean_sh)\n",
    "mae_arima_istanbul_data_mean_sh = MAE(testdata_istanbul_data_mean_sh, arima_istanbul_data_mean_sh)\n",
    "mae_sarima_istanbul_data_mean_sh = MAE(testdata_istanbul_data_mean_sh, sarima_istanbul_data_mean_sh)\n",
    "mae_slstm_istanbul_data_mean_sh = MAE(testdata_istanbul_data_mean_sh, slstm_istanbul_data_mean_sh)\n",
    "mae_ssvr_istanbul_data_mean_sh = MAE(testdata_istanbul_data_mean_sh, ssvr_istanbul_data_mean_sh)\n",
    "mae_sxgboost_istanbul_data_mean_sh = MAE(testdata_istanbul_data_mean_sh, sxgboost_istanbul_data_mean_sh)\n",
    "mae_slstmarima_istanbul_data_mean_sh = MAE(testdata_istanbul_data_mean_sh, slstmarima_istanbul_data_mean_sh)\n",
    "mae_ssvrarima_istanbul_data_mean_sh = MAE(testdata_istanbul_data_mean_sh, ssvrarima_istanbul_data_mean_sh)\n",
    "mae_sxgboostarima_istanbul_data_mean_sh = MAE(testdata_istanbul_data_mean_sh, sxgboostarima_istanbul_data_mean_sh)\n",
    "\n",
    "print(mae_ar_istanbul_data_mean_sh)\n",
    "print(mae_arma_istanbul_data_mean_sh)\n",
    "print(mae_arima_istanbul_data_mean_sh)\n",
    "print(mae_sarima_istanbul_data_mean_sh)\n",
    "print(mae_slstm_istanbul_data_mean_sh)\n",
    "print(mae_ssvr_istanbul_data_mean_sh)\n",
    "print(mae_sxgboost_istanbul_data_mean_sh)\n",
    "print(mae_slstmarima_istanbul_data_mean_sh)\n",
    "print(mae_ssvrarima_istanbul_data_mean_sh)\n",
    "print(mae_sxgboostarima_istanbul_data_mean_sh)"
   ]
  },
  {
   "cell_type": "code",
   "execution_count": null,
   "metadata": {},
   "outputs": [],
   "source": []
  }
 ],
 "metadata": {
  "interpreter": {
   "hash": "40d3a090f54c6569ab1632332b64b2c03c39dcf918b08424e98f38b5ae0af88f"
  },
  "kernelspec": {
   "display_name": "Python 3.7.9",
   "language": "python",
   "name": "python3"
  },
  "language_info": {
   "codemirror_mode": {
    "name": "ipython",
    "version": 3
   },
   "file_extension": ".py",
   "mimetype": "text/x-python",
   "name": "python",
   "nbconvert_exporter": "python",
   "pygments_lexer": "ipython3",
   "version": "3.7.9"
  },
  "orig_nbformat": 4
 },
 "nbformat": 4,
 "nbformat_minor": 2
}
