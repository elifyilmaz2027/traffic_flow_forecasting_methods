{
 "cells": [
  {
   "cell_type": "code",
   "execution_count": 1,
   "metadata": {},
   "outputs": [],
   "source": [
    "import numpy as np\n",
    "import pandas as pd\n",
    "\n",
    "#Defining MAPE function\n",
    "def MAPE(actual_values,predicted_values):\n",
    "    predicted_values = np.array(predicted_values).reshape((len(predicted_values), 1))\n",
    "    actual_values = np.array(actual_values).reshape((len(actual_values), 1))\n",
    "    mape = np.mean(np.abs((actual_values - predicted_values)/actual_values))*100\n",
    "    return mape\n",
    "\n",
    "#Defining MAPE_100 function\n",
    "def MAPE_100(actual_values,predicted_values):\n",
    "    predicted_values = np.array(predicted_values).reshape((len(predicted_values), 1))\n",
    "    actual_values = np.array(actual_values).reshape((len(actual_values), 1))\n",
    "    x = np.concatenate((actual_values,predicted_values), axis=1)\n",
    "    x_100 = x[x[:,0]>100]\n",
    "    mape = np.mean(np.abs((x_100[:,0] - x_100[:,1]) / x_100[:,0]))*100\n",
    "    return mape\n",
    "\n",
    "#Defining MAPE_250 function\n",
    "def MAPE_250(actual_values,predicted_values):\n",
    "    predicted_values = np.array(predicted_values).reshape((len(predicted_values), 1))\n",
    "    actual_values = np.array(actual_values).reshape((len(actual_values), 1))\n",
    "    x = np.concatenate((actual_values,predicted_values), axis=1)\n",
    "    x_250 = x[x[:,0]>250]\n",
    "    mape = np.mean(np.abs((x_250[:,0] - x_250[:,1]) / x_250[:,0]))*100\n",
    "    return mape\n",
    "\n",
    "#Defining MAE function\n",
    "def MAE(actual_values,predicted_values):\n",
    "    predicted_values = np.array(predicted_values).reshape((len(predicted_values), 1))\n",
    "    actual_values = np.array(actual_values).reshape((len(actual_values), 1))\n",
    "    mae = np.mean(np.abs(actual_values - predicted_values))\n",
    "    return mae"
   ]
  },
  {
   "cell_type": "code",
   "execution_count": 2,
   "metadata": {},
   "outputs": [],
   "source": [
    "testdata_istanbul_data_mean_sdsh = np.array(pd.read_csv('data/istanbul/istanbul_data_mean_sdsh.csv')[['NUMBER_OF_VEHICLES']][-3500:])\n",
    "ar_istanbul_data_mean_sdsh = np.array(pd.read_csv(\"point_forecasts/ar_istanbul_data_mean_sdsh_test.csv\")[\"0\"])\n",
    "arma_istanbul_data_mean_sdsh = np.array(pd.read_csv(\"point_forecasts/arma_istanbul_data_mean_sdsh_test.csv\")[\"0\"])\n",
    "arima_istanbul_data_mean_sdsh = np.array(pd.read_csv(\"point_forecasts/arima_istanbul_data_mean_sdsh_test.csv\")[\"0\"])\n",
    "sarima_istanbul_data_mean_sdsh = np.array(pd.read_csv(\"point_forecasts/sarima_istanbul_data_mean_sdsh_test.csv\")[\"0\"])\n",
    "slstm_istanbul_data_mean_sdsh = np.array(pd.read_csv(\"point_forecasts/slstm_istanbul_data_mean_sdsh_test.csv\")[\"0\"])\n",
    "ssvr_istanbul_data_mean_sdsh = np.array(pd.read_csv(\"point_forecasts/ssvr_istanbul_data_mean_sdsh_test.csv\")[\"0\"])\n",
    "sxgboost_istanbul_data_mean_sdsh = np.array(pd.read_csv(\"point_forecasts/sxgboost_istanbul_data_mean_sdsh_test.csv\")[\"0\"])\n",
    "slstmarima_istanbul_data_mean_sdsh = np.array(pd.read_csv(\"point_forecasts/slstmarima_istanbul_data_mean_sdsh_test.csv\")[\"0\"])\n",
    "ssvrarima_istanbul_data_mean_sdsh = np.array(pd.read_csv(\"point_forecasts/ssvrarima_istanbul_data_mean_sdsh_test.csv\")[\"0\"])\n",
    "sxgboostarima_istanbul_data_mean_sdsh = np.array(pd.read_csv(\"point_forecasts/sxgboostarima_istanbul_data_mean_sdsh_test.csv\")[\"0\"])"
   ]
  },
  {
   "cell_type": "code",
   "execution_count": 3,
   "metadata": {},
   "outputs": [
    {
     "name": "stdout",
     "output_type": "stream",
     "text": [
      "32.28522825674658\n",
      "29.421164709879783\n",
      "31.072668155397913\n",
      "23.330365809285443\n",
      "17.936230435083743\n",
      "16.750979864766805\n",
      "18.13295639807828\n",
      "17.907516554919198\n",
      "16.752112486882776\n",
      "18.138081388324558\n"
     ]
    }
   ],
   "source": [
    "mape_ar_istanbul_data_mean_sdsh = MAPE(testdata_istanbul_data_mean_sdsh, ar_istanbul_data_mean_sdsh)\n",
    "mape_arma_istanbul_data_mean_sdsh = MAPE(testdata_istanbul_data_mean_sdsh, arma_istanbul_data_mean_sdsh)\n",
    "mape_arima_istanbul_data_mean_sdsh = MAPE(testdata_istanbul_data_mean_sdsh, arima_istanbul_data_mean_sdsh)\n",
    "mape_sarima_istanbul_data_mean_sdsh = MAPE(testdata_istanbul_data_mean_sdsh, sarima_istanbul_data_mean_sdsh)\n",
    "mape_slstm_istanbul_data_mean_sdsh = MAPE(testdata_istanbul_data_mean_sdsh, slstm_istanbul_data_mean_sdsh)\n",
    "mape_ssvr_istanbul_data_mean_sdsh = MAPE(testdata_istanbul_data_mean_sdsh, ssvr_istanbul_data_mean_sdsh)\n",
    "mape_sxgboost_istanbul_data_mean_sdsh = MAPE(testdata_istanbul_data_mean_sdsh, sxgboost_istanbul_data_mean_sdsh)\n",
    "mape_slstmarima_istanbul_data_mean_sdsh = MAPE(testdata_istanbul_data_mean_sdsh, slstmarima_istanbul_data_mean_sdsh)\n",
    "mape_ssvrarima_istanbul_data_mean_sdsh = MAPE(testdata_istanbul_data_mean_sdsh, ssvrarima_istanbul_data_mean_sdsh)\n",
    "mape_sxgboostarima_istanbul_data_mean_sdsh = MAPE(testdata_istanbul_data_mean_sdsh, sxgboostarima_istanbul_data_mean_sdsh)\n",
    "\n",
    "print(mape_ar_istanbul_data_mean_sdsh)\n",
    "print(mape_arma_istanbul_data_mean_sdsh)\n",
    "print(mape_arima_istanbul_data_mean_sdsh)\n",
    "print(mape_sarima_istanbul_data_mean_sdsh)\n",
    "print(mape_slstm_istanbul_data_mean_sdsh)\n",
    "print(mape_ssvr_istanbul_data_mean_sdsh)\n",
    "print(mape_sxgboost_istanbul_data_mean_sdsh)\n",
    "print(mape_slstmarima_istanbul_data_mean_sdsh)\n",
    "print(mape_ssvrarima_istanbul_data_mean_sdsh)\n",
    "print(mape_sxgboostarima_istanbul_data_mean_sdsh)"
   ]
  },
  {
   "cell_type": "code",
   "execution_count": 4,
   "metadata": {},
   "outputs": [
    {
     "name": "stdout",
     "output_type": "stream",
     "text": [
      "27.492503060389602\n",
      "24.628539402099292\n",
      "23.077257114198847\n",
      "16.90765610289425\n",
      "12.364571240132793\n",
      "11.773044608936988\n",
      "12.609899198448616\n",
      "12.382148093388146\n",
      "11.776840396405351\n",
      "12.616524462824188\n"
     ]
    }
   ],
   "source": [
    "mape_100_ar_istanbul_data_mean_sdsh = MAPE_100(testdata_istanbul_data_mean_sdsh, ar_istanbul_data_mean_sdsh)\n",
    "mape_100_arma_istanbul_data_mean_sdsh = MAPE_100(testdata_istanbul_data_mean_sdsh, arma_istanbul_data_mean_sdsh)\n",
    "mape_100_arima_istanbul_data_mean_sdsh = MAPE_100(testdata_istanbul_data_mean_sdsh, arima_istanbul_data_mean_sdsh)\n",
    "mape_100_sarima_istanbul_data_mean_sdsh = MAPE_100(testdata_istanbul_data_mean_sdsh, sarima_istanbul_data_mean_sdsh)\n",
    "mape_100_slstm_istanbul_data_mean_sdsh = MAPE_100(testdata_istanbul_data_mean_sdsh, slstm_istanbul_data_mean_sdsh)\n",
    "mape_100_ssvr_istanbul_data_mean_sdsh = MAPE_100(testdata_istanbul_data_mean_sdsh, ssvr_istanbul_data_mean_sdsh)\n",
    "mape_100_sxgboost_istanbul_data_mean_sdsh = MAPE_100(testdata_istanbul_data_mean_sdsh, sxgboost_istanbul_data_mean_sdsh)\n",
    "mape_100_slstmarima_istanbul_data_mean_sdsh = MAPE_100(testdata_istanbul_data_mean_sdsh, slstmarima_istanbul_data_mean_sdsh)\n",
    "mape_100_ssvrarima_istanbul_data_mean_sdsh = MAPE_100(testdata_istanbul_data_mean_sdsh, ssvrarima_istanbul_data_mean_sdsh)\n",
    "mape_100_sxgboostarima_istanbul_data_mean_sdsh = MAPE_100(testdata_istanbul_data_mean_sdsh, sxgboostarima_istanbul_data_mean_sdsh)\n",
    "\n",
    "print(mape_100_ar_istanbul_data_mean_sdsh)\n",
    "print(mape_100_arma_istanbul_data_mean_sdsh)\n",
    "print(mape_100_arima_istanbul_data_mean_sdsh)\n",
    "print(mape_100_sarima_istanbul_data_mean_sdsh)\n",
    "print(mape_100_slstm_istanbul_data_mean_sdsh)\n",
    "print(mape_100_ssvr_istanbul_data_mean_sdsh)\n",
    "print(mape_100_sxgboost_istanbul_data_mean_sdsh)\n",
    "print(mape_100_slstmarima_istanbul_data_mean_sdsh)\n",
    "print(mape_100_ssvrarima_istanbul_data_mean_sdsh)\n",
    "print(mape_100_sxgboostarima_istanbul_data_mean_sdsh)"
   ]
  },
  {
   "cell_type": "code",
   "execution_count": 5,
   "metadata": {},
   "outputs": [
    {
     "name": "stdout",
     "output_type": "stream",
     "text": [
      "26.359933440174725\n",
      "23.55588242842907\n",
      "17.101445941329548\n",
      "13.139766020671567\n",
      "9.528538117688552\n",
      "9.110524556053173\n",
      "9.925149527667402\n",
      "9.515685702854562\n",
      "9.104299224136252\n",
      "9.920039238024659\n"
     ]
    }
   ],
   "source": [
    "mape_250_ar_istanbul_data_mean_sdsh = MAPE_250(testdata_istanbul_data_mean_sdsh, ar_istanbul_data_mean_sdsh)\n",
    "mape_250_arma_istanbul_data_mean_sdsh = MAPE_250(testdata_istanbul_data_mean_sdsh, arma_istanbul_data_mean_sdsh)\n",
    "mape_250_arima_istanbul_data_mean_sdsh = MAPE_250(testdata_istanbul_data_mean_sdsh, arima_istanbul_data_mean_sdsh)\n",
    "mape_250_sarima_istanbul_data_mean_sdsh = MAPE_250(testdata_istanbul_data_mean_sdsh, sarima_istanbul_data_mean_sdsh)\n",
    "mape_250_slstm_istanbul_data_mean_sdsh = MAPE_250(testdata_istanbul_data_mean_sdsh, slstm_istanbul_data_mean_sdsh)\n",
    "mape_250_ssvr_istanbul_data_mean_sdsh = MAPE_250(testdata_istanbul_data_mean_sdsh, ssvr_istanbul_data_mean_sdsh)\n",
    "mape_250_sxgboost_istanbul_data_mean_sdsh = MAPE_250(testdata_istanbul_data_mean_sdsh, sxgboost_istanbul_data_mean_sdsh)\n",
    "mape_250_slstmarima_istanbul_data_mean_sdsh = MAPE_250(testdata_istanbul_data_mean_sdsh, slstmarima_istanbul_data_mean_sdsh)\n",
    "mape_250_ssvrarima_istanbul_data_mean_sdsh = MAPE_250(testdata_istanbul_data_mean_sdsh, ssvrarima_istanbul_data_mean_sdsh)\n",
    "mape_250_sxgboostarima_istanbul_data_mean_sdsh = MAPE_250(testdata_istanbul_data_mean_sdsh, sxgboostarima_istanbul_data_mean_sdsh)\n",
    "\n",
    "print(mape_250_ar_istanbul_data_mean_sdsh)\n",
    "print(mape_250_arma_istanbul_data_mean_sdsh)\n",
    "print(mape_250_arima_istanbul_data_mean_sdsh)\n",
    "print(mape_250_sarima_istanbul_data_mean_sdsh)\n",
    "print(mape_250_slstm_istanbul_data_mean_sdsh)\n",
    "print(mape_250_ssvr_istanbul_data_mean_sdsh)\n",
    "print(mape_250_sxgboost_istanbul_data_mean_sdsh)\n",
    "print(mape_250_slstmarima_istanbul_data_mean_sdsh)\n",
    "print(mape_250_ssvrarima_istanbul_data_mean_sdsh)\n",
    "print(mape_250_sxgboostarima_istanbul_data_mean_sdsh)"
   ]
  },
  {
   "cell_type": "code",
   "execution_count": 6,
   "metadata": {},
   "outputs": [
    {
     "name": "stdout",
     "output_type": "stream",
     "text": [
      "52.29404862398487\n",
      "47.1007412386391\n",
      "42.39015327603023\n",
      "31.579195499410115\n",
      "23.470105247747735\n",
      "22.230927819831624\n",
      "23.976517753869476\n",
      "23.475449282581536\n",
      "22.233469339131968\n",
      "23.98729810076995\n"
     ]
    }
   ],
   "source": [
    "mae_ar_istanbul_data_mean_sdsh = MAE(testdata_istanbul_data_mean_sdsh, ar_istanbul_data_mean_sdsh)\n",
    "mae_arma_istanbul_data_mean_sdsh = MAE(testdata_istanbul_data_mean_sdsh, arma_istanbul_data_mean_sdsh)\n",
    "mae_arima_istanbul_data_mean_sdsh = MAE(testdata_istanbul_data_mean_sdsh, arima_istanbul_data_mean_sdsh)\n",
    "mae_sarima_istanbul_data_mean_sdsh = MAE(testdata_istanbul_data_mean_sdsh, sarima_istanbul_data_mean_sdsh)\n",
    "mae_slstm_istanbul_data_mean_sdsh = MAE(testdata_istanbul_data_mean_sdsh, slstm_istanbul_data_mean_sdsh)\n",
    "mae_ssvr_istanbul_data_mean_sdsh = MAE(testdata_istanbul_data_mean_sdsh, ssvr_istanbul_data_mean_sdsh)\n",
    "mae_sxgboost_istanbul_data_mean_sdsh = MAE(testdata_istanbul_data_mean_sdsh, sxgboost_istanbul_data_mean_sdsh)\n",
    "mae_slstmarima_istanbul_data_mean_sdsh = MAE(testdata_istanbul_data_mean_sdsh, slstmarima_istanbul_data_mean_sdsh)\n",
    "mae_ssvrarima_istanbul_data_mean_sdsh = MAE(testdata_istanbul_data_mean_sdsh, ssvrarima_istanbul_data_mean_sdsh)\n",
    "mae_sxgboostarima_istanbul_data_mean_sdsh = MAE(testdata_istanbul_data_mean_sdsh, sxgboostarima_istanbul_data_mean_sdsh)\n",
    "\n",
    "print(mae_ar_istanbul_data_mean_sdsh)\n",
    "print(mae_arma_istanbul_data_mean_sdsh)\n",
    "print(mae_arima_istanbul_data_mean_sdsh)\n",
    "print(mae_sarima_istanbul_data_mean_sdsh)\n",
    "print(mae_slstm_istanbul_data_mean_sdsh)\n",
    "print(mae_ssvr_istanbul_data_mean_sdsh)\n",
    "print(mae_sxgboost_istanbul_data_mean_sdsh)\n",
    "print(mae_slstmarima_istanbul_data_mean_sdsh)\n",
    "print(mae_ssvrarima_istanbul_data_mean_sdsh)\n",
    "print(mae_sxgboostarima_istanbul_data_mean_sdsh)"
   ]
  },
  {
   "cell_type": "code",
   "execution_count": null,
   "metadata": {},
   "outputs": [],
   "source": []
  }
 ],
 "metadata": {
  "interpreter": {
   "hash": "40d3a090f54c6569ab1632332b64b2c03c39dcf918b08424e98f38b5ae0af88f"
  },
  "kernelspec": {
   "display_name": "Python 3.7.9",
   "language": "python",
   "name": "python3"
  },
  "language_info": {
   "codemirror_mode": {
    "name": "ipython",
    "version": 3
   },
   "file_extension": ".py",
   "mimetype": "text/x-python",
   "name": "python",
   "nbconvert_exporter": "python",
   "pygments_lexer": "ipython3",
   "version": "3.7.9"
  },
  "orig_nbformat": 4
 },
 "nbformat": 4,
 "nbformat_minor": 2
}
