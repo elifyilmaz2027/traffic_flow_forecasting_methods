{
 "cells": [
  {
   "cell_type": "code",
   "execution_count": 1,
   "metadata": {},
   "outputs": [],
   "source": [
    "from pmdarima.arima import auto_arima\n",
    "import pandas as pd\n",
    "import numpy as np"
   ]
  },
  {
   "cell_type": "markdown",
   "metadata": {},
   "source": [
    "# Station 716933"
   ]
  },
  {
   "cell_type": "code",
   "execution_count": 2,
   "metadata": {},
   "outputs": [
    {
     "data": {
      "text/html": [
       "<div>\n",
       "<style scoped>\n",
       "    .dataframe tbody tr th:only-of-type {\n",
       "        vertical-align: middle;\n",
       "    }\n",
       "\n",
       "    .dataframe tbody tr th {\n",
       "        vertical-align: top;\n",
       "    }\n",
       "\n",
       "    .dataframe thead th {\n",
       "        text-align: right;\n",
       "    }\n",
       "</style>\n",
       "<table border=\"1\" class=\"dataframe\">\n",
       "  <thead>\n",
       "    <tr style=\"text-align: right;\">\n",
       "      <th></th>\n",
       "      <th>Unnamed: 0</th>\n",
       "      <th>Total Flow</th>\n",
       "    </tr>\n",
       "  </thead>\n",
       "  <tbody>\n",
       "    <tr>\n",
       "      <th>0</th>\n",
       "      <td>0</td>\n",
       "      <td>119.333333</td>\n",
       "    </tr>\n",
       "    <tr>\n",
       "      <th>1</th>\n",
       "      <td>1</td>\n",
       "      <td>182.333333</td>\n",
       "    </tr>\n",
       "    <tr>\n",
       "      <th>2</th>\n",
       "      <td>2</td>\n",
       "      <td>241.666667</td>\n",
       "    </tr>\n",
       "    <tr>\n",
       "      <th>3</th>\n",
       "      <td>3</td>\n",
       "      <td>262.666667</td>\n",
       "    </tr>\n",
       "    <tr>\n",
       "      <th>4</th>\n",
       "      <td>4</td>\n",
       "      <td>261.666667</td>\n",
       "    </tr>\n",
       "    <tr>\n",
       "      <th>...</th>\n",
       "      <td>...</td>\n",
       "      <td>...</td>\n",
       "    </tr>\n",
       "    <tr>\n",
       "      <th>26203</th>\n",
       "      <td>26203</td>\n",
       "      <td>389.000000</td>\n",
       "    </tr>\n",
       "    <tr>\n",
       "      <th>26204</th>\n",
       "      <td>26204</td>\n",
       "      <td>357.666667</td>\n",
       "    </tr>\n",
       "    <tr>\n",
       "      <th>26205</th>\n",
       "      <td>26205</td>\n",
       "      <td>373.333333</td>\n",
       "    </tr>\n",
       "    <tr>\n",
       "      <th>26206</th>\n",
       "      <td>26206</td>\n",
       "      <td>340.000000</td>\n",
       "    </tr>\n",
       "    <tr>\n",
       "      <th>26207</th>\n",
       "      <td>26207</td>\n",
       "      <td>332.333333</td>\n",
       "    </tr>\n",
       "  </tbody>\n",
       "</table>\n",
       "<p>26208 rows × 2 columns</p>\n",
       "</div>"
      ],
      "text/plain": [
       "       Unnamed: 0  Total Flow\n",
       "0               0  119.333333\n",
       "1               1  182.333333\n",
       "2               2  241.666667\n",
       "3               3  262.666667\n",
       "4               4  261.666667\n",
       "...           ...         ...\n",
       "26203       26203  389.000000\n",
       "26204       26204  357.666667\n",
       "26205       26205  373.333333\n",
       "26206       26206  340.000000\n",
       "26207       26207  332.333333\n",
       "\n",
       "[26208 rows x 2 columns]"
      ]
     },
     "execution_count": 2,
     "metadata": {},
     "output_type": "execute_result"
    }
   ],
   "source": [
    "data = pd.read_csv(\"data/pems/pems-d07-9months-2021-station716933-15min.csv\")\n",
    "data"
   ]
  },
  {
   "cell_type": "code",
   "execution_count": 3,
   "metadata": {},
   "outputs": [],
   "source": [
    "train_data = data[\"Total Flow\"].values[:-7863]\n",
    "test_data = data[\"Total Flow\"].values[-7863:]"
   ]
  },
  {
   "cell_type": "code",
   "execution_count": 4,
   "metadata": {},
   "outputs": [
    {
     "name": "stdout",
     "output_type": "stream",
     "text": [
      "Performing stepwise search to minimize aic\n",
      " ARIMA(1,0,0)(0,0,0)[0]             : AIC=inf, Time=1.67 sec\n",
      " ARIMA(0,0,0)(0,0,0)[0]             : AIC=280647.034, Time=0.20 sec\n",
      " ARIMA(0,0,0)(0,0,0)[0] intercept   : AIC=241280.816, Time=0.37 sec\n",
      " ARIMA(1,0,0)(0,0,0)[0] intercept   : AIC=192746.376, Time=1.07 sec\n",
      " ARIMA(2,0,0)(0,0,0)[0] intercept   : AIC=192720.428, Time=2.11 sec\n",
      " ARIMA(3,0,0)(0,0,0)[0] intercept   : AIC=192716.566, Time=2.17 sec\n",
      " ARIMA(4,0,0)(0,0,0)[0] intercept   : AIC=192430.904, Time=2.90 sec\n",
      " ARIMA(5,0,0)(0,0,0)[0] intercept   : AIC=192099.290, Time=3.63 sec\n",
      " ARIMA(5,0,0)(0,0,0)[0]             : AIC=inf, Time=0.96 sec\n",
      "\n",
      "Best model:  ARIMA(5,0,0)(0,0,0)[0] intercept\n",
      "Total fit time: 15.085 seconds\n"
     ]
    }
   ],
   "source": [
    "model = auto_arima(train_data, start_p=1, start_q=0,\n",
    "                      max_p=5, max_q=0,            \n",
    "                      d=0,          \n",
    "                      seasonal=False,   \n",
    "                      start_P=0, \n",
    "                      D=None, \n",
    "                      trace=True)"
   ]
  },
  {
   "cell_type": "code",
   "execution_count": 5,
   "metadata": {},
   "outputs": [
    {
     "name": "stdout",
     "output_type": "stream",
     "text": [
      "Performing stepwise search to minimize aic\n",
      " ARIMA(1,0,1)(0,0,0)[0]             : AIC=193031.946, Time=0.53 sec\n",
      " ARIMA(0,0,0)(0,0,0)[0]             : AIC=280647.034, Time=0.17 sec\n",
      " ARIMA(1,0,0)(0,0,0)[0]             : AIC=inf, Time=0.24 sec\n",
      " ARIMA(0,0,1)(0,0,0)[0]             : AIC=257525.493, Time=1.47 sec\n",
      " ARIMA(2,0,1)(0,0,0)[0]             : AIC=193033.753, Time=1.43 sec\n",
      " ARIMA(1,0,2)(0,0,0)[0]             : AIC=193033.808, Time=0.87 sec\n",
      " ARIMA(0,0,2)(0,0,0)[0]             : AIC=240320.015, Time=4.67 sec\n",
      " ARIMA(2,0,0)(0,0,0)[0]             : AIC=inf, Time=0.42 sec\n",
      " ARIMA(2,0,2)(0,0,0)[0]             : AIC=193035.852, Time=3.88 sec\n",
      " ARIMA(1,0,1)(0,0,0)[0] intercept   : AIC=192721.259, Time=5.00 sec\n",
      " ARIMA(0,0,1)(0,0,0)[0] intercept   : AIC=222190.468, Time=6.11 sec\n",
      " ARIMA(1,0,0)(0,0,0)[0] intercept   : AIC=192746.376, Time=1.07 sec\n",
      " ARIMA(2,0,1)(0,0,0)[0] intercept   : AIC=191808.976, Time=27.34 sec\n",
      " ARIMA(2,0,0)(0,0,0)[0] intercept   : AIC=192720.428, Time=2.55 sec\n",
      " ARIMA(3,0,1)(0,0,0)[0] intercept   : AIC=191811.256, Time=37.37 sec\n",
      " ARIMA(2,0,2)(0,0,0)[0] intercept   : AIC=192724.408, Time=32.17 sec\n",
      " ARIMA(1,0,2)(0,0,0)[0] intercept   : AIC=192721.705, Time=17.40 sec\n",
      " ARIMA(3,0,0)(0,0,0)[0] intercept   : AIC=192716.566, Time=2.95 sec\n",
      " ARIMA(3,0,2)(0,0,0)[0] intercept   : AIC=192661.699, Time=38.07 sec\n",
      "\n",
      "Best model:  ARIMA(2,0,1)(0,0,0)[0] intercept\n",
      "Total fit time: 183.720 seconds\n"
     ]
    }
   ],
   "source": [
    "model = auto_arima(train_data, start_p=1, start_q=1,\n",
    "                      max_p=5, max_q=5,            \n",
    "                      d=0,          \n",
    "                      seasonal=False,   \n",
    "                      start_P=0, \n",
    "                      D=None, \n",
    "                      trace=True)"
   ]
  },
  {
   "cell_type": "code",
   "execution_count": 6,
   "metadata": {},
   "outputs": [
    {
     "name": "stdout",
     "output_type": "stream",
     "text": [
      "Performing stepwise search to minimize aic\n",
      " ARIMA(1,1,1)(0,0,0)[0] intercept   : AIC=193051.060, Time=3.12 sec\n",
      " ARIMA(0,1,0)(0,0,0)[0] intercept   : AIC=193063.542, Time=0.46 sec\n",
      " ARIMA(1,1,0)(0,0,0)[0] intercept   : AIC=193058.007, Time=0.59 sec\n",
      " ARIMA(0,1,1)(0,0,0)[0] intercept   : AIC=193057.955, Time=1.08 sec\n",
      " ARIMA(0,1,0)(0,0,0)[0]             : AIC=193061.542, Time=0.27 sec\n",
      " ARIMA(2,1,1)(0,0,0)[0] intercept   : AIC=193050.716, Time=9.28 sec\n",
      " ARIMA(2,1,0)(0,0,0)[0] intercept   : AIC=193059.961, Time=1.66 sec\n",
      " ARIMA(3,1,1)(0,0,0)[0] intercept   : AIC=192728.883, Time=12.69 sec\n",
      " ARIMA(3,1,0)(0,0,0)[0] intercept   : AIC=192866.723, Time=2.23 sec\n",
      " ARIMA(4,1,1)(0,0,0)[0] intercept   : AIC=192659.660, Time=8.77 sec\n",
      " ARIMA(4,1,0)(0,0,0)[0] intercept   : AIC=192658.990, Time=2.84 sec\n",
      " ARIMA(5,1,0)(0,0,0)[0] intercept   : AIC=192659.118, Time=4.01 sec\n",
      " ARIMA(5,1,1)(0,0,0)[0] intercept   : AIC=192659.334, Time=20.38 sec\n",
      " ARIMA(4,1,0)(0,0,0)[0]             : AIC=192656.990, Time=1.07 sec\n",
      " ARIMA(3,1,0)(0,0,0)[0]             : AIC=192864.723, Time=0.88 sec\n",
      " ARIMA(5,1,0)(0,0,0)[0]             : AIC=192657.118, Time=1.48 sec\n",
      " ARIMA(4,1,1)(0,0,0)[0]             : AIC=192657.660, Time=3.08 sec\n",
      " ARIMA(3,1,1)(0,0,0)[0]             : AIC=192726.882, Time=4.45 sec\n",
      " ARIMA(5,1,1)(0,0,0)[0]             : AIC=192657.334, Time=6.43 sec\n",
      "\n",
      "Best model:  ARIMA(4,1,0)(0,0,0)[0]          \n",
      "Total fit time: 84.764 seconds\n"
     ]
    }
   ],
   "source": [
    "model = auto_arima(train_data, start_p=1, start_q=1,\n",
    "                      max_p=5, max_q=5,            \n",
    "                      d=1,          \n",
    "                      seasonal=False,   \n",
    "                      start_P=0, \n",
    "                      D=None, \n",
    "                      trace=True)"
   ]
  },
  {
   "cell_type": "markdown",
   "metadata": {},
   "source": [
    "# Station 717087"
   ]
  },
  {
   "cell_type": "code",
   "execution_count": 12,
   "metadata": {},
   "outputs": [
    {
     "data": {
      "text/html": [
       "<div>\n",
       "<style scoped>\n",
       "    .dataframe tbody tr th:only-of-type {\n",
       "        vertical-align: middle;\n",
       "    }\n",
       "\n",
       "    .dataframe tbody tr th {\n",
       "        vertical-align: top;\n",
       "    }\n",
       "\n",
       "    .dataframe thead th {\n",
       "        text-align: right;\n",
       "    }\n",
       "</style>\n",
       "<table border=\"1\" class=\"dataframe\">\n",
       "  <thead>\n",
       "    <tr style=\"text-align: right;\">\n",
       "      <th></th>\n",
       "      <th>Unnamed: 0</th>\n",
       "      <th>Total Flow</th>\n",
       "    </tr>\n",
       "  </thead>\n",
       "  <tbody>\n",
       "    <tr>\n",
       "      <th>0</th>\n",
       "      <td>0</td>\n",
       "      <td>51.000000</td>\n",
       "    </tr>\n",
       "    <tr>\n",
       "      <th>1</th>\n",
       "      <td>1</td>\n",
       "      <td>93.666667</td>\n",
       "    </tr>\n",
       "    <tr>\n",
       "      <th>2</th>\n",
       "      <td>2</td>\n",
       "      <td>136.000000</td>\n",
       "    </tr>\n",
       "    <tr>\n",
       "      <th>3</th>\n",
       "      <td>3</td>\n",
       "      <td>124.000000</td>\n",
       "    </tr>\n",
       "    <tr>\n",
       "      <th>4</th>\n",
       "      <td>4</td>\n",
       "      <td>124.333333</td>\n",
       "    </tr>\n",
       "    <tr>\n",
       "      <th>...</th>\n",
       "      <td>...</td>\n",
       "      <td>...</td>\n",
       "    </tr>\n",
       "    <tr>\n",
       "      <th>26203</th>\n",
       "      <td>26203</td>\n",
       "      <td>156.333333</td>\n",
       "    </tr>\n",
       "    <tr>\n",
       "      <th>26204</th>\n",
       "      <td>26204</td>\n",
       "      <td>159.333333</td>\n",
       "    </tr>\n",
       "    <tr>\n",
       "      <th>26205</th>\n",
       "      <td>26205</td>\n",
       "      <td>150.666667</td>\n",
       "    </tr>\n",
       "    <tr>\n",
       "      <th>26206</th>\n",
       "      <td>26206</td>\n",
       "      <td>136.333333</td>\n",
       "    </tr>\n",
       "    <tr>\n",
       "      <th>26207</th>\n",
       "      <td>26207</td>\n",
       "      <td>120.333333</td>\n",
       "    </tr>\n",
       "  </tbody>\n",
       "</table>\n",
       "<p>26208 rows × 2 columns</p>\n",
       "</div>"
      ],
      "text/plain": [
       "       Unnamed: 0  Total Flow\n",
       "0               0   51.000000\n",
       "1               1   93.666667\n",
       "2               2  136.000000\n",
       "3               3  124.000000\n",
       "4               4  124.333333\n",
       "...           ...         ...\n",
       "26203       26203  156.333333\n",
       "26204       26204  159.333333\n",
       "26205       26205  150.666667\n",
       "26206       26206  136.333333\n",
       "26207       26207  120.333333\n",
       "\n",
       "[26208 rows x 2 columns]"
      ]
     },
     "execution_count": 12,
     "metadata": {},
     "output_type": "execute_result"
    }
   ],
   "source": [
    "data2 = pd.read_csv(\"data/pems/pems-d07-9months-2021-station717087-15min.csv\")\n",
    "data2"
   ]
  },
  {
   "cell_type": "code",
   "execution_count": 13,
   "metadata": {},
   "outputs": [],
   "source": [
    "train_data2 = data2[\"Total Flow\"].values[:-7863]\n",
    "test_data2 = data2[\"Total Flow\"].values[-7863:]"
   ]
  },
  {
   "cell_type": "code",
   "execution_count": 14,
   "metadata": {},
   "outputs": [
    {
     "name": "stdout",
     "output_type": "stream",
     "text": [
      "Performing stepwise search to minimize aic\n",
      " ARIMA(1,0,0)(0,0,0)[0]             : AIC=inf, Time=0.40 sec\n",
      " ARIMA(0,0,0)(0,0,0)[0]             : AIC=267850.493, Time=0.27 sec\n",
      " ARIMA(0,0,0)(0,0,0)[0] intercept   : AIC=236188.702, Time=0.46 sec\n",
      " ARIMA(1,0,0)(0,0,0)[0] intercept   : AIC=178483.149, Time=0.86 sec\n",
      " ARIMA(2,0,0)(0,0,0)[0] intercept   : AIC=178480.515, Time=3.17 sec\n",
      " ARIMA(3,0,0)(0,0,0)[0] intercept   : AIC=178269.972, Time=2.36 sec\n",
      " ARIMA(4,0,0)(0,0,0)[0] intercept   : AIC=177788.848, Time=3.45 sec\n",
      " ARIMA(5,0,0)(0,0,0)[0] intercept   : AIC=176351.117, Time=3.91 sec\n",
      " ARIMA(5,0,0)(0,0,0)[0]             : AIC=176806.000, Time=1.48 sec\n",
      "\n",
      "Best model:  ARIMA(5,0,0)(0,0,0)[0] intercept\n",
      "Total fit time: 16.377 seconds\n"
     ]
    }
   ],
   "source": [
    "model = auto_arima(train_data2, start_p=1, start_q=0,\n",
    "                      max_p=5, max_q=0,            \n",
    "                      d=0,          \n",
    "                      seasonal=False,   \n",
    "                      start_P=0, \n",
    "                      D=None, \n",
    "                      trace=True)"
   ]
  },
  {
   "cell_type": "code",
   "execution_count": 15,
   "metadata": {},
   "outputs": [
    {
     "name": "stdout",
     "output_type": "stream",
     "text": [
      "Performing stepwise search to minimize aic\n",
      " ARIMA(1,0,1)(0,0,0)[0]             : AIC=178637.992, Time=0.98 sec\n",
      " ARIMA(0,0,0)(0,0,0)[0]             : AIC=267850.493, Time=0.31 sec\n",
      " ARIMA(1,0,0)(0,0,0)[0]             : AIC=inf, Time=0.41 sec\n",
      " ARIMA(0,0,1)(0,0,0)[0]             : AIC=245047.435, Time=2.34 sec\n",
      " ARIMA(2,0,1)(0,0,0)[0]             : AIC=inf, Time=10.72 sec\n",
      " ARIMA(1,0,2)(0,0,0)[0]             : AIC=178497.477, Time=1.54 sec\n",
      " ARIMA(0,0,2)(0,0,0)[0]             : AIC=227697.044, Time=4.65 sec\n",
      " ARIMA(2,0,2)(0,0,0)[0]             : AIC=inf, Time=12.43 sec\n",
      " ARIMA(1,0,3)(0,0,0)[0]             : AIC=177927.824, Time=3.10 sec\n",
      " ARIMA(0,0,3)(0,0,0)[0]             : AIC=216130.891, Time=7.23 sec\n",
      " ARIMA(2,0,3)(0,0,0)[0]             : AIC=176948.176, Time=8.09 sec\n",
      " ARIMA(3,0,3)(0,0,0)[0]             : AIC=176946.427, Time=11.82 sec\n",
      " ARIMA(3,0,2)(0,0,0)[0]             : AIC=inf, Time=16.52 sec\n",
      " ARIMA(4,0,3)(0,0,0)[0]             : AIC=176760.440, Time=15.73 sec\n",
      " ARIMA(4,0,2)(0,0,0)[0]             : AIC=178594.325, Time=12.01 sec\n",
      " ARIMA(5,0,3)(0,0,0)[0]             : AIC=176508.266, Time=18.60 sec\n",
      " ARIMA(5,0,2)(0,0,0)[0]             : AIC=177014.134, Time=14.45 sec\n",
      " ARIMA(5,0,4)(0,0,0)[0]             : AIC=176395.141, Time=21.28 sec\n",
      " ARIMA(4,0,4)(0,0,0)[0]             : AIC=176418.285, Time=21.85 sec\n",
      " ARIMA(5,0,5)(0,0,0)[0]             : AIC=inf, Time=31.80 sec\n",
      " ARIMA(4,0,5)(0,0,0)[0]             : AIC=176405.872, Time=25.80 sec\n",
      " ARIMA(5,0,4)(0,0,0)[0] intercept   : AIC=inf, Time=65.17 sec\n",
      "\n",
      "Best model:  ARIMA(5,0,4)(0,0,0)[0]          \n",
      "Total fit time: 306.848 seconds\n"
     ]
    }
   ],
   "source": [
    "model = auto_arima(train_data2, start_p=1, start_q=1,\n",
    "                      max_p=5, max_q=5,            \n",
    "                      d=0,          \n",
    "                      seasonal=False,   \n",
    "                      start_P=0, \n",
    "                      D=None, \n",
    "                      trace=True)"
   ]
  },
  {
   "cell_type": "code",
   "execution_count": 16,
   "metadata": {},
   "outputs": [
    {
     "name": "stdout",
     "output_type": "stream",
     "text": [
      "Performing stepwise search to minimize aic\n",
      " ARIMA(1,1,1)(0,0,0)[0] intercept   : AIC=inf, Time=12.30 sec\n",
      " ARIMA(0,1,0)(0,0,0)[0] intercept   : AIC=178667.167, Time=0.59 sec\n",
      " ARIMA(1,1,0)(0,0,0)[0] intercept   : AIC=178656.210, Time=0.79 sec\n",
      " ARIMA(0,1,1)(0,0,0)[0] intercept   : AIC=178658.366, Time=2.53 sec\n",
      " ARIMA(0,1,0)(0,0,0)[0]             : AIC=178665.167, Time=0.49 sec\n",
      " ARIMA(2,1,0)(0,0,0)[0] intercept   : AIC=178489.001, Time=2.53 sec\n",
      " ARIMA(3,1,0)(0,0,0)[0] intercept   : AIC=178093.359, Time=2.56 sec\n",
      " ARIMA(4,1,0)(0,0,0)[0] intercept   : AIC=176885.338, Time=3.93 sec\n",
      " ARIMA(5,1,0)(0,0,0)[0] intercept   : AIC=176693.059, Time=4.28 sec\n",
      " ARIMA(5,1,1)(0,0,0)[0] intercept   : AIC=176681.538, Time=19.26 sec\n",
      " ARIMA(4,1,1)(0,0,0)[0] intercept   : AIC=176749.959, Time=21.70 sec\n",
      " ARIMA(5,1,2)(0,0,0)[0] intercept   : AIC=176644.909, Time=26.23 sec\n",
      " ARIMA(4,1,2)(0,0,0)[0] intercept   : AIC=176677.889, Time=22.52 sec\n",
      " ARIMA(5,1,3)(0,0,0)[0] intercept   : AIC=inf, Time=83.99 sec\n",
      " ARIMA(4,1,3)(0,0,0)[0] intercept   : AIC=176610.537, Time=26.95 sec\n",
      " ARIMA(3,1,3)(0,0,0)[0] intercept   : AIC=176855.717, Time=29.81 sec\n",
      " ARIMA(4,1,4)(0,0,0)[0] intercept   : AIC=176361.318, Time=74.64 sec\n",
      " ARIMA(3,1,4)(0,0,0)[0] intercept   : AIC=176383.006, Time=67.48 sec\n",
      " ARIMA(5,1,4)(0,0,0)[0] intercept   : AIC=inf, Time=80.68 sec\n",
      " ARIMA(4,1,5)(0,0,0)[0] intercept   : AIC=inf, Time=98.36 sec\n",
      " ARIMA(3,1,5)(0,0,0)[0] intercept   : AIC=176352.357, Time=90.69 sec\n",
      " ARIMA(2,1,5)(0,0,0)[0] intercept   : AIC=176811.663, Time=40.08 sec\n",
      " ARIMA(2,1,4)(0,0,0)[0] intercept   : AIC=176918.415, Time=19.27 sec\n",
      " ARIMA(3,1,5)(0,0,0)[0]             : AIC=inf, Time=36.53 sec\n",
      "\n",
      "Best model:  ARIMA(3,1,5)(0,0,0)[0] intercept\n",
      "Total fit time: 768.222 seconds\n"
     ]
    }
   ],
   "source": [
    "model = auto_arima(train_data2, start_p=1, start_q=1,\n",
    "                      max_p=5, max_q=5,            \n",
    "                      d=1,          \n",
    "                      seasonal=False,\n",
    "                      start_P=0, \n",
    "                      D=None, \n",
    "                      trace=True)"
   ]
  },
  {
   "cell_type": "code",
   "execution_count": null,
   "metadata": {},
   "outputs": [],
   "source": []
  }
 ],
 "metadata": {
  "interpreter": {
   "hash": "40d3a090f54c6569ab1632332b64b2c03c39dcf918b08424e98f38b5ae0af88f"
  },
  "kernelspec": {
   "display_name": "Python 3.7.9",
   "language": "python",
   "name": "python3"
  },
  "language_info": {
   "codemirror_mode": {
    "name": "ipython",
    "version": 3
   },
   "file_extension": ".py",
   "mimetype": "text/x-python",
   "name": "python",
   "nbconvert_exporter": "python",
   "pygments_lexer": "ipython3",
   "version": "3.7.9"
  },
  "orig_nbformat": 4
 },
 "nbformat": 4,
 "nbformat_minor": 2
}
