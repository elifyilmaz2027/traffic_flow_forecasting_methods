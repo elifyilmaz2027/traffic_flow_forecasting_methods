{
 "cells": [
  {
   "cell_type": "code",
   "execution_count": 27,
   "metadata": {},
   "outputs": [],
   "source": [
    "import numpy as np\n",
    "import pandas as pd\n",
    "\n",
    "#Defining MAPE function\n",
    "def MAPE(actual_values,predicted_values):\n",
    "    predicted_values = np.array(predicted_values).reshape((len(predicted_values), 1))\n",
    "    actual_values = np.array(actual_values).reshape((len(actual_values), 1))\n",
    "    mape = np.mean(np.abs((actual_values - predicted_values)/actual_values))*100\n",
    "    return mape\n",
    "\n",
    "#Defining MAPE_100 function\n",
    "def MAPE_100(actual_values,predicted_values):\n",
    "    predicted_values = np.array(predicted_values).reshape((len(predicted_values), 1))\n",
    "    actual_values = np.array(actual_values).reshape((len(actual_values), 1))\n",
    "    x = np.concatenate((actual_values,predicted_values), axis=1)\n",
    "    x_100 = x[x[:,0]>100]\n",
    "    mape = np.mean(np.abs((x_100[:,0] - x_100[:,1]) / x_100[:,0]))*100\n",
    "    return mape\n",
    "\n",
    "#Defining MAPE_250 function\n",
    "def MAPE_250(actual_values,predicted_values):\n",
    "    predicted_values = np.array(predicted_values).reshape((len(predicted_values), 1))\n",
    "    actual_values = np.array(actual_values).reshape((len(actual_values), 1))\n",
    "    x = np.concatenate((actual_values,predicted_values), axis=1)\n",
    "    x_250 = x[x[:,0]>250]\n",
    "    mape = np.mean(np.abs((x_250[:,0] - x_250[:,1]) / x_250[:,0]))*100\n",
    "    return mape\n",
    "\n",
    "#Defining MAE function\n",
    "def MAE(actual_values,predicted_values):\n",
    "    predicted_values = np.array(predicted_values).reshape((len(predicted_values), 1))\n",
    "    actual_values = np.array(actual_values).reshape((len(actual_values), 1))\n",
    "    mae = np.mean(np.abs(actual_values - predicted_values))\n",
    "    return mae"
   ]
  },
  {
   "cell_type": "code",
   "execution_count": 28,
   "metadata": {},
   "outputs": [],
   "source": [
    "testdata_716933 = np.array(pd.read_csv('data/pems/pems-d07-9months-2021-station716933-15min.csv')[['Total Flow']][-7863:])\n",
    "ar_716933 = np.array(pd.read_csv(\"point_forecasts/ar_pems_716933_test.csv\")[\"0\"])\n",
    "arma_716933 = np.array(pd.read_csv(\"point_forecasts/arma_pems_716933_test.csv\")[\"0\"])\n",
    "arima_716933 = np.array(pd.read_csv(\"point_forecasts/arima_pems_716933_test.csv\")[\"0\"])\n",
    "sarima_716933 = np.array(pd.read_csv(\"point_forecasts/sarima_pems_716933_test.csv\")[\"0\"])\n",
    "slstm_716933 = np.array(pd.read_csv(\"point_forecasts/slstm_pems_716933_test.csv\")[\"0\"])\n",
    "ssvr_716933 = np.array(pd.read_csv(\"point_forecasts/ssvr_pems_716933_test.csv\")[\"0\"])\n",
    "sxgboost_716933 = np.array(pd.read_csv(\"point_forecasts/sxgboost_pems_716933_test.csv\")[\"0\"])\n",
    "slstmarima_716933 = np.array(pd.read_csv(\"point_forecasts/slstmarima_pems_716933_test.csv\")[\"0\"])\n",
    "ssvrarima_716933 = np.array(pd.read_csv(\"point_forecasts/ssvrarima_pems_716933_test.csv\")[\"0\"])\n",
    "sxgboostarima_716933 = np.array(pd.read_csv(\"point_forecasts/sxgboostarima_pems_716933_test.csv\")[\"0\"])"
   ]
  },
  {
   "cell_type": "code",
   "execution_count": 29,
   "metadata": {},
   "outputs": [],
   "source": [
    "mape_ar_716933 = MAPE(testdata_716933, ar_716933)\n",
    "mape_arma_716933 = MAPE(testdata_716933, arma_716933)\n",
    "mape_arima_716933 = MAPE(testdata_716933, arima_716933)\n",
    "mape_sarima_716933 = MAPE(testdata_716933, sarima_716933)\n",
    "mape_slstm_716933 = MAPE(testdata_716933, slstm_716933)\n",
    "mape_ssvr_716933 = MAPE(testdata_716933, ssvr_716933)\n",
    "mape_sxgboost_716933 = MAPE(testdata_716933, sxgboost_716933)\n",
    "mape_slstmarima_716933 = MAPE(testdata_716933, slstmarima_716933)\n",
    "mape_ssvrarima_716933 = MAPE(testdata_716933, ssvrarima_716933)\n",
    "mape_sxgboostarima_716933 = MAPE(testdata_716933, sxgboostarima_716933)\n"
   ]
  },
  {
   "cell_type": "code",
   "execution_count": 30,
   "metadata": {},
   "outputs": [
    {
     "name": "stdout",
     "output_type": "stream",
     "text": [
      "8.047163203140883\n",
      "7.74001675364598\n",
      "7.3660278247569115\n",
      "6.648892868326587\n",
      "6.253069644402445\n",
      "6.000669052475197\n",
      "6.099251378263277\n",
      "6.253429810578235\n",
      "6.000702024746338\n",
      "6.099321286450661\n"
     ]
    }
   ],
   "source": [
    "print(mape_ar_716933)\n",
    "print(mape_arma_716933)\n",
    "print(mape_arima_716933)\n",
    "print(mape_sarima_716933)\n",
    "print(mape_slstm_716933 )\n",
    "print(mape_ssvr_716933)\n",
    "print(mape_sxgboost_716933)\n",
    "print(mape_slstmarima_716933)\n",
    "print(mape_ssvrarima_716933)\n",
    "print(mape_sxgboostarima_716933)"
   ]
  },
  {
   "cell_type": "code",
   "execution_count": 31,
   "metadata": {},
   "outputs": [
    {
     "name": "stdout",
     "output_type": "stream",
     "text": [
      "8.047163203140883\n",
      "7.74001675364598\n",
      "7.3660278247569115\n",
      "6.648892868326587\n",
      "6.253069644402445\n",
      "6.000669052475197\n",
      "6.099251378263277\n",
      "6.253429810578235\n",
      "6.000702024746338\n",
      "6.099321286450661\n"
     ]
    }
   ],
   "source": [
    "mape_100_ar_716933 = MAPE_100(testdata_716933, ar_716933)\n",
    "mape_100_arma_716933 = MAPE_100(testdata_716933, arma_716933)\n",
    "mape_100_arima_716933 = MAPE_100(testdata_716933, arima_716933)\n",
    "mape_100_sarima_716933 = MAPE_100(testdata_716933, sarima_716933)\n",
    "mape_100_slstm_716933 = MAPE_100(testdata_716933, slstm_716933)\n",
    "mape_100_ssvr_716933 = MAPE_100(testdata_716933, ssvr_716933)\n",
    "mape_100_sxgboost_716933 = MAPE_100(testdata_716933, sxgboost_716933)\n",
    "mape_100_slstmarima_716933 = MAPE_100(testdata_716933, slstmarima_716933)\n",
    "mape_100_ssvrarima_716933 = MAPE_100(testdata_716933, ssvrarima_716933)\n",
    "mape_100_sxgboostarima_716933 = MAPE_100(testdata_716933, sxgboostarima_716933)\n",
    "print(mape_100_ar_716933)\n",
    "print(mape_100_arma_716933)\n",
    "print(mape_100_arima_716933)\n",
    "print(mape_100_sarima_716933)\n",
    "print(mape_100_slstm_716933 )\n",
    "print(mape_100_ssvr_716933)\n",
    "print(mape_100_sxgboost_716933)\n",
    "print(mape_100_slstmarima_716933)\n",
    "print(mape_100_ssvrarima_716933)\n",
    "print(mape_100_sxgboostarima_716933)\n"
   ]
  },
  {
   "cell_type": "code",
   "execution_count": 32,
   "metadata": {},
   "outputs": [
    {
     "name": "stdout",
     "output_type": "stream",
     "text": [
      "7.69157771661967\n",
      "7.333505018200419\n",
      "6.816440535576364\n",
      "6.248341274074011\n",
      "5.619165660371625\n",
      "5.469034648723104\n",
      "5.559938973342971\n",
      "5.619172036305884\n",
      "5.469042891030165\n",
      "5.559936891963197\n"
     ]
    }
   ],
   "source": [
    "mape_250_ar_716933 = MAPE_250(testdata_716933, ar_716933)\n",
    "mape_250_arma_716933 = MAPE_250(testdata_716933, arma_716933)\n",
    "mape_250_arima_716933 = MAPE_250(testdata_716933, arima_716933)\n",
    "mape_250_sarima_716933 = MAPE_250(testdata_716933, sarima_716933)\n",
    "mape_250_slstm_716933 = MAPE_250(testdata_716933, slstm_716933)\n",
    "mape_250_ssvr_716933 = MAPE_250(testdata_716933, ssvr_716933)\n",
    "mape_250_sxgboost_716933 = MAPE_250(testdata_716933, sxgboost_716933)\n",
    "mape_250_slstmarima_716933 = MAPE_250(testdata_716933, slstmarima_716933)\n",
    "mape_250_ssvrarima_716933 = MAPE_250(testdata_716933, ssvrarima_716933)\n",
    "mape_250_sxgboostarima_716933 = MAPE_250(testdata_716933, sxgboostarima_716933)\n",
    "print(mape_250_ar_716933)\n",
    "print(mape_250_arma_716933)\n",
    "print(mape_250_arima_716933)\n",
    "print(mape_250_sarima_716933)\n",
    "print(mape_250_slstm_716933 )\n",
    "print(mape_250_ssvr_716933)\n",
    "print(mape_250_sxgboost_716933)\n",
    "print(mape_250_slstmarima_716933)\n",
    "print(mape_250_ssvrarima_716933)\n",
    "print(mape_250_sxgboostarima_716933)\n"
   ]
  },
  {
   "cell_type": "code",
   "execution_count": 33,
   "metadata": {},
   "outputs": [
    {
     "name": "stdout",
     "output_type": "stream",
     "text": [
      "36.61291387491914\n",
      "34.706397687562195\n",
      "31.70197713784382\n",
      "29.394136701895967\n",
      "26.841926865064224\n",
      "26.015406145713285\n",
      "26.435141600449363\n",
      "26.842688512959494\n",
      "26.015615351192313\n",
      "26.43538085374002\n"
     ]
    }
   ],
   "source": [
    "mae_ar_716933 = MAE(testdata_716933, ar_716933)\n",
    "mae_arma_716933 = MAE(testdata_716933, arma_716933)\n",
    "mae_arima_716933 = MAE(testdata_716933, arima_716933)\n",
    "mae_sarima_716933 = MAE(testdata_716933, sarima_716933)\n",
    "mae_slstm_716933 = MAE(testdata_716933, slstm_716933)\n",
    "mae_ssvr_716933 = MAE(testdata_716933, ssvr_716933)\n",
    "mae_sxgboost_716933 = MAE(testdata_716933, sxgboost_716933)\n",
    "mae_slstmarima_716933 = MAE(testdata_716933, slstmarima_716933)\n",
    "mae_ssvrarima_716933 = MAE(testdata_716933, ssvrarima_716933)\n",
    "mae_sxgboostarima_716933 = MAE(testdata_716933, sxgboostarima_716933)\n",
    "print(mae_ar_716933)\n",
    "print(mae_arma_716933)\n",
    "print(mae_arima_716933)\n",
    "print(mae_sarima_716933)\n",
    "print(mae_slstm_716933 )\n",
    "print(mae_ssvr_716933)\n",
    "print(mae_sxgboost_716933)\n",
    "print(mae_slstmarima_716933)\n",
    "print(mae_ssvrarima_716933)\n",
    "print(mae_sxgboostarima_716933)"
   ]
  },
  {
   "cell_type": "code",
   "execution_count": null,
   "metadata": {},
   "outputs": [],
   "source": []
  }
 ],
 "metadata": {
  "interpreter": {
   "hash": "40d3a090f54c6569ab1632332b64b2c03c39dcf918b08424e98f38b5ae0af88f"
  },
  "kernelspec": {
   "display_name": "Python 3.7.9",
   "language": "python",
   "name": "python3"
  },
  "language_info": {
   "codemirror_mode": {
    "name": "ipython",
    "version": 3
   },
   "file_extension": ".py",
   "mimetype": "text/x-python",
   "name": "python",
   "nbconvert_exporter": "python",
   "pygments_lexer": "ipython3",
   "version": "3.7.9"
  },
  "orig_nbformat": 4
 },
 "nbformat": 4,
 "nbformat_minor": 2
}
