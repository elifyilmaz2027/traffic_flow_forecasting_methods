{
 "cells": [
  {
   "cell_type": "code",
   "execution_count": 32,
   "metadata": {},
   "outputs": [],
   "source": [
    "import numpy as np\n",
    "import pandas as pd\n",
    "\n",
    "#Defining MAPE function\n",
    "def MAPE(actual_values,predicted_values):\n",
    "    predicted_values = np.array(predicted_values).reshape((len(predicted_values), 1))\n",
    "    actual_values = np.array(actual_values).reshape((len(actual_values), 1))\n",
    "    mape = np.mean(np.abs((actual_values - predicted_values)/actual_values))*100\n",
    "    return mape\n",
    "\n",
    "#Defining MAPE_100 function\n",
    "def MAPE_100(actual_values,predicted_values):\n",
    "    predicted_values = np.array(predicted_values).reshape((len(predicted_values), 1))\n",
    "    actual_values = np.array(actual_values).reshape((len(actual_values), 1))\n",
    "    x = np.concatenate((actual_values,predicted_values), axis=1)\n",
    "    x_100 = x[x[:,0]>100]\n",
    "    mape = np.mean(np.abs((x_100[:,0] - x_100[:,1]) / x_100[:,0]))*100\n",
    "    return mape\n",
    "\n",
    "#Defining MAPE_250 function\n",
    "def MAPE_250(actual_values,predicted_values):\n",
    "    predicted_values = np.array(predicted_values).reshape((len(predicted_values), 1))\n",
    "    actual_values = np.array(actual_values).reshape((len(actual_values), 1))\n",
    "    x = np.concatenate((actual_values,predicted_values), axis=1)\n",
    "    x_250 = x[x[:,0]>250]\n",
    "    mape = np.mean(np.abs((x_250[:,0] - x_250[:,1]) / x_250[:,0]))*100\n",
    "    return mape\n",
    "\n",
    "#Defining MAE function\n",
    "def MAE(actual_values,predicted_values):\n",
    "    predicted_values = np.array(predicted_values).reshape((len(predicted_values), 1))\n",
    "    actual_values = np.array(actual_values).reshape((len(actual_values), 1))\n",
    "    mae = np.mean(np.abs(actual_values - predicted_values))\n",
    "    return mae"
   ]
  },
  {
   "cell_type": "code",
   "execution_count": 33,
   "metadata": {},
   "outputs": [],
   "source": [
    "testdata_717087 = np.array(pd.read_csv('data/pems/pems-d07-9months-2021-station717087-15min.csv')[['Total Flow']][-7863:])\n",
    "ar_717087 = np.array(pd.read_csv(\"point_forecasts/ar_pems_717087_test.csv\")[\"0\"])\n",
    "arma_717087 = np.array(pd.read_csv(\"point_forecasts/arma_pems_717087_test.csv\")[\"0\"])\n",
    "arima_717087 = np.array(pd.read_csv(\"point_forecasts/arima_pems_717087_test.csv\")[\"0\"])\n",
    "sarima_717087 = np.array(pd.read_csv(\"point_forecasts/sarima_pems_717087_test.csv\")[\"0\"])\n",
    "slstm_717087 = np.array(pd.read_csv(\"point_forecasts/slstm_pems_717087_test.csv\")[\"0\"])\n",
    "ssvr_717087 = np.array(pd.read_csv(\"point_forecasts/ssvr_pems_717087_test.csv\")[\"0\"])\n",
    "sxgboost_717087 = np.array(pd.read_csv(\"point_forecasts/sxgboost_pems_717087_test.csv\")[\"0\"])\n",
    "slstmarima_717087 = np.array(pd.read_csv(\"point_forecasts/slstmarima_pems_717087_test.csv\")[\"0\"])\n",
    "ssvrarima_717087 = np.array(pd.read_csv(\"point_forecasts/ssvrarima_pems_717087_test.csv\")[\"0\"])\n",
    "sxgboostarima_717087 = np.array(pd.read_csv(\"point_forecasts/sxgboostarima_pems_717087_test.csv\")[\"0\"])"
   ]
  },
  {
   "cell_type": "code",
   "execution_count": 34,
   "metadata": {},
   "outputs": [],
   "source": [
    "mape_ar_717087 = MAPE(testdata_717087, ar_717087)\n",
    "mape_arma_717087 = MAPE(testdata_717087, arma_717087)\n",
    "mape_arima_717087 = MAPE(testdata_717087, arima_717087)\n",
    "mape_sarima_717087 = MAPE(testdata_717087, sarima_717087)\n",
    "mape_slstm_717087 = MAPE(testdata_717087, slstm_717087)\n",
    "mape_ssvr_717087 = MAPE(testdata_717087, ssvr_717087)\n",
    "mape_sxgboost_717087 = MAPE(testdata_717087, sxgboost_717087)\n",
    "mape_slstmarima_717087 = MAPE(testdata_717087, slstmarima_717087)\n",
    "mape_ssvrarima_717087 = MAPE(testdata_717087, ssvrarima_717087)\n",
    "mape_sxgboostarima_717087 = MAPE(testdata_717087, sxgboostarima_717087)\n"
   ]
  },
  {
   "cell_type": "code",
   "execution_count": 35,
   "metadata": {},
   "outputs": [
    {
     "name": "stdout",
     "output_type": "stream",
     "text": [
      "8.11551399417616\n",
      "9.038353131930679\n",
      "8.22873553313542\n",
      "7.3760212002738506\n",
      "7.580976751711058\n",
      "7.2004394447703\n",
      "6.978562813843733\n",
      "7.5813706923892905\n",
      "7.200232182800511\n",
      "6.979441088429994\n"
     ]
    }
   ],
   "source": [
    "print(mape_ar_717087)\n",
    "print(mape_arma_717087)\n",
    "print(mape_arima_717087)\n",
    "print(mape_sarima_717087)\n",
    "print(mape_slstm_717087 )\n",
    "print(mape_ssvr_717087)\n",
    "print(mape_sxgboost_717087)\n",
    "print(mape_slstmarima_717087)\n",
    "print(mape_ssvrarima_717087)\n",
    "print(mape_sxgboostarima_717087)"
   ]
  },
  {
   "cell_type": "code",
   "execution_count": 36,
   "metadata": {},
   "outputs": [
    {
     "name": "stdout",
     "output_type": "stream",
     "text": [
      "7.391720458354506\n",
      "8.06109426125678\n",
      "7.314031730896983\n",
      "6.567314554629439\n",
      "6.1178471735164255\n",
      "5.774518050729633\n",
      "5.8093474466635975\n",
      "6.118317316487666\n",
      "5.774260536340519\n",
      "5.809826020231966\n"
     ]
    }
   ],
   "source": [
    "mape_100_ar_717087 = MAPE_100(testdata_717087, ar_717087)\n",
    "mape_100_arma_717087 = MAPE_100(testdata_717087, arma_717087)\n",
    "mape_100_arima_717087 = MAPE_100(testdata_717087, arima_717087)\n",
    "mape_100_sarima_717087 = MAPE_100(testdata_717087, sarima_717087)\n",
    "mape_100_slstm_717087 = MAPE_100(testdata_717087, slstm_717087)\n",
    "mape_100_ssvr_717087 = MAPE_100(testdata_717087, ssvr_717087)\n",
    "mape_100_sxgboost_717087 = MAPE_100(testdata_717087, sxgboost_717087)\n",
    "mape_100_slstmarima_717087 = MAPE_100(testdata_717087, slstmarima_717087)\n",
    "mape_100_ssvrarima_717087 = MAPE_100(testdata_717087, ssvrarima_717087)\n",
    "mape_100_sxgboostarima_717087 = MAPE_100(testdata_717087, sxgboostarima_717087)\n",
    "print(mape_100_ar_717087)\n",
    "print(mape_100_arma_717087)\n",
    "print(mape_100_arima_717087)\n",
    "print(mape_100_sarima_717087)\n",
    "print(mape_100_slstm_717087 )\n",
    "print(mape_100_ssvr_717087)\n",
    "print(mape_100_sxgboost_717087)\n",
    "print(mape_100_slstmarima_717087)\n",
    "print(mape_100_ssvrarima_717087)\n",
    "print(mape_100_sxgboostarima_717087)\n"
   ]
  },
  {
   "cell_type": "code",
   "execution_count": 37,
   "metadata": {},
   "outputs": [
    {
     "name": "stdout",
     "output_type": "stream",
     "text": [
      "6.267276452561113\n",
      "6.899966861590215\n",
      "5.873963240467723\n",
      "5.781455762366732\n",
      "4.977597259106809\n",
      "4.768709853556574\n",
      "4.850612193880713\n",
      "4.977597820989974\n",
      "4.76871911521475\n",
      "4.8506181468472676\n"
     ]
    }
   ],
   "source": [
    "mape_250_ar_717087 = MAPE_250(testdata_717087, ar_717087)\n",
    "mape_250_arma_717087 = MAPE_250(testdata_717087, arma_717087)\n",
    "mape_250_arima_717087 = MAPE_250(testdata_717087, arima_717087)\n",
    "mape_250_sarima_717087 = MAPE_250(testdata_717087, sarima_717087)\n",
    "mape_250_slstm_717087 = MAPE_250(testdata_717087, slstm_717087)\n",
    "mape_250_ssvr_717087 = MAPE_250(testdata_717087, ssvr_717087)\n",
    "mape_250_sxgboost_717087 = MAPE_250(testdata_717087, sxgboost_717087)\n",
    "mape_250_slstmarima_717087 = MAPE_250(testdata_717087, slstmarima_717087)\n",
    "mape_250_ssvrarima_717087 = MAPE_250(testdata_717087, ssvrarima_717087)\n",
    "mape_250_sxgboostarima_717087 = MAPE_250(testdata_717087, sxgboostarima_717087)\n",
    "print(mape_250_ar_717087)\n",
    "print(mape_250_arma_717087)\n",
    "print(mape_250_arima_717087)\n",
    "print(mape_250_sarima_717087)\n",
    "print(mape_250_slstm_717087 )\n",
    "print(mape_250_ssvr_717087)\n",
    "print(mape_250_sxgboost_717087)\n",
    "print(mape_250_slstmarima_717087)\n",
    "print(mape_250_ssvrarima_717087)\n",
    "print(mape_250_sxgboostarima_717087)\n"
   ]
  },
  {
   "cell_type": "code",
   "execution_count": 38,
   "metadata": {},
   "outputs": [
    {
     "name": "stdout",
     "output_type": "stream",
     "text": [
      "22.2411687656336\n",
      "24.498942450758474\n",
      "21.234435065529222\n",
      "20.023570872855185\n",
      "18.291041833100174\n",
      "17.444472161772747\n",
      "17.4993064141761\n",
      "18.291404048993336\n",
      "17.44422946646671\n",
      "17.500098465644356\n"
     ]
    }
   ],
   "source": [
    "mae_ar_717087 = MAE(testdata_717087, ar_717087)\n",
    "mae_arma_717087 = MAE(testdata_717087, arma_717087)\n",
    "mae_arima_717087 = MAE(testdata_717087, arima_717087)\n",
    "mae_sarima_717087 = MAE(testdata_717087, sarima_717087)\n",
    "mae_slstm_717087 = MAE(testdata_717087, slstm_717087)\n",
    "mae_ssvr_717087 = MAE(testdata_717087, ssvr_717087)\n",
    "mae_sxgboost_717087 = MAE(testdata_717087, sxgboost_717087)\n",
    "mae_slstmarima_717087 = MAE(testdata_717087, slstmarima_717087)\n",
    "mae_ssvrarima_717087 = MAE(testdata_717087, ssvrarima_717087)\n",
    "mae_sxgboostarima_717087 = MAE(testdata_717087, sxgboostarima_717087)\n",
    "print(mae_ar_717087)\n",
    "print(mae_arma_717087)\n",
    "print(mae_arima_717087)\n",
    "print(mae_sarima_717087)\n",
    "print(mae_slstm_717087 )\n",
    "print(mae_ssvr_717087)\n",
    "print(mae_sxgboost_717087)\n",
    "print(mae_slstmarima_717087)\n",
    "print(mae_ssvrarima_717087)\n",
    "print(mae_sxgboostarima_717087)"
   ]
  },
  {
   "cell_type": "code",
   "execution_count": null,
   "metadata": {},
   "outputs": [],
   "source": []
  }
 ],
 "metadata": {
  "interpreter": {
   "hash": "40d3a090f54c6569ab1632332b64b2c03c39dcf918b08424e98f38b5ae0af88f"
  },
  "kernelspec": {
   "display_name": "Python 3.7.9",
   "language": "python",
   "name": "python3"
  },
  "language_info": {
   "codemirror_mode": {
    "name": "ipython",
    "version": 3
   },
   "file_extension": ".py",
   "mimetype": "text/x-python",
   "name": "python",
   "nbconvert_exporter": "python",
   "pygments_lexer": "ipython3",
   "version": "3.7.9"
  },
  "orig_nbformat": 4
 },
 "nbformat": 4,
 "nbformat_minor": 2
}
